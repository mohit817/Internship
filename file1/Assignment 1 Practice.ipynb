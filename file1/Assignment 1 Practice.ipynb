{
 "cells": [
  {
   "cell_type": "code",
   "execution_count": 1,
   "id": "cca587e2-d22d-4d84-8a07-e79723fdb85d",
   "metadata": {},
   "outputs": [
    {
     "name": "stdout",
     "output_type": "stream",
     "text": [
      "15\n"
     ]
    }
   ],
   "source": [
    "def func(a,b):\n",
    "    return b if a == 0 else func(b % a,a)\n",
    "\n",
    "print(func(30,75))"
   ]
  },
  {
   "cell_type": "code",
   "execution_count": 2,
   "id": "d185ee8d-ef5c-44dd-a768-8df6caadb02b",
   "metadata": {},
   "outputs": [
    {
     "name": "stdout",
     "output_type": "stream",
     "text": [
      "<class 'filter'>\n"
     ]
    }
   ],
   "source": [
    "numbers = (4,7,19,2,89,45,72,22)\n",
    "sorted_numbers = sorted(numbers)\n",
    "even = lambda a: a%2 == 0\n",
    "even_numbers = filter(even,sorted_numbers)\n",
    "print(type(even_numbers))"
   ]
  },
  {
   "cell_type": "code",
   "execution_count": 3,
   "id": "14426230-cd41-4549-a57a-9779c9144c2a",
   "metadata": {},
   "outputs": [],
   "source": [
    "# Tuple"
   ]
  },
  {
   "cell_type": "code",
   "execution_count": 4,
   "id": "eba1dba2-4366-4cd5-aa90-5ac9f3892424",
   "metadata": {},
   "outputs": [
    {
     "ename": "TypeError",
     "evalue": "unsupported operand type(s) for +: 'set' and 'set'",
     "output_type": "error",
     "traceback": [
      "\u001b[1;31m---------------------------------------------------------------------------\u001b[0m",
      "\u001b[1;31mTypeError\u001b[0m                                 Traceback (most recent call last)",
      "Cell \u001b[1;32mIn[4], line 4\u001b[0m\n\u001b[0;32m      2\u001b[0m set2 \u001b[38;5;241m=\u001b[39m {\u001b[38;5;241m82\u001b[39m,\u001b[38;5;241m49\u001b[39m,\u001b[38;5;241m62\u001b[39m}\n\u001b[0;32m      3\u001b[0m set3 \u001b[38;5;241m=\u001b[39m {\u001b[38;5;241m99\u001b[39m,\u001b[38;5;241m22\u001b[39m,\u001b[38;5;241m17\u001b[39m}\n\u001b[1;32m----> 4\u001b[0m \u001b[38;5;28mprint\u001b[39m(\u001b[38;5;28mlen\u001b[39m(\u001b[43mset1\u001b[49m\u001b[43m \u001b[49m\u001b[38;5;241;43m+\u001b[39;49m\u001b[43m \u001b[49m\u001b[43mset2\u001b[49m \u001b[38;5;241m+\u001b[39m set3))\n",
      "\u001b[1;31mTypeError\u001b[0m: unsupported operand type(s) for +: 'set' and 'set'"
     ]
    }
   ],
   "source": [
    "set1 = {14,3,55}\n",
    "set2 = {82,49,62}\n",
    "set3 = {99,22,17}\n",
    "print(len(set1 + set2 + set3))"
   ]
  },
  {
   "cell_type": "code",
   "execution_count": 5,
   "id": "e7009fe7-a1ed-4a0b-8790-1f161f89563d",
   "metadata": {},
   "outputs": [],
   "source": [
    "# Raise"
   ]
  },
  {
   "cell_type": "code",
   "execution_count": 6,
   "id": "5e410f0f-4fbd-4b4e-aff1-d226abee59c4",
   "metadata": {},
   "outputs": [],
   "source": [
    "# datetime"
   ]
  },
  {
   "cell_type": "code",
   "execution_count": 7,
   "id": "a0488ca6-21aa-446e-b48b-fd3349f0669b",
   "metadata": {},
   "outputs": [
    {
     "name": "stdout",
     "output_type": "stream",
     "text": [
      "208\n"
     ]
    }
   ],
   "source": [
    "print(4 ** 3 + (7+5)**(1+1))"
   ]
  },
  {
   "cell_type": "code",
   "execution_count": 10,
   "id": "92bc7b92-4c47-4b31-bf34-9af836eac9f9",
   "metadata": {},
   "outputs": [],
   "source": [
    "from datetime import datetime\n",
    "\n",
    "date_string = \"21 June, 2018\"\n",
    "date_object = datetime.strptime(date_string,\"%d %B, %Y\")"
   ]
  },
  {
   "cell_type": "code",
   "execution_count": 12,
   "id": "8b3f4250-a7fc-4c15-98f4-f602ed7b594d",
   "metadata": {},
   "outputs": [
    {
     "name": "stdout",
     "output_type": "stream",
     "text": [
      "2018-06-21 00:00:00\n"
     ]
    }
   ],
   "source": [
    "print(date_object)"
   ]
  },
  {
   "cell_type": "code",
   "execution_count": 13,
   "id": "624d7622-11ac-402c-bd59-5d6534199eda",
   "metadata": {},
   "outputs": [
    {
     "name": "stdout",
     "output_type": "stream",
     "text": [
      "2018-12-11 09:15:32\n"
     ]
    }
   ],
   "source": [
    "dt_string = \"12/11/2018 09:15:32\"\n",
    "dt_object = datetime.strptime(dt_string,\"%m/%d/%Y %H:%M:%S\")\n",
    "\n",
    "print(dt_object)"
   ]
  },
  {
   "cell_type": "code",
   "execution_count": 14,
   "id": "8150ffee-84fb-4409-8e02-a4e9e985f5f2",
   "metadata": {},
   "outputs": [
    {
     "name": "stdout",
     "output_type": "stream",
     "text": [
      "12-18-2023 16:46:47\n"
     ]
    }
   ],
   "source": [
    "now = datetime.now()\n",
    "formatted = datetime.strftime(now,\"%m-%d-%Y %H:%M:%S\")\n",
    "\n",
    "print(formatted)"
   ]
  },
  {
   "cell_type": "code",
   "execution_count": 15,
   "id": "136fd8dd-a41a-457b-9563-2ee8780bc055",
   "metadata": {},
   "outputs": [],
   "source": [
    "# both a and b"
   ]
  },
  {
   "cell_type": "code",
   "execution_count": 16,
   "id": "5547c5c0-e125-46e3-854d-11eb7c024f39",
   "metadata": {},
   "outputs": [],
   "source": [
    "# immutable"
   ]
  },
  {
   "cell_type": "code",
   "execution_count": 17,
   "id": "a52a80a1-2d6e-497a-b34e-a82f5db2fdc0",
   "metadata": {},
   "outputs": [],
   "source": [
    "# range"
   ]
  },
  {
   "cell_type": "code",
   "execution_count": 18,
   "id": "8bb3fb1c-26d6-4b07-85e1-30b96e45813f",
   "metadata": {},
   "outputs": [],
   "source": [
    "# Lambda()"
   ]
  },
  {
   "cell_type": "code",
   "execution_count": 19,
   "id": "aea35769-cd54-4de7-8d85-ac48488b7823",
   "metadata": {},
   "outputs": [],
   "source": [
    "# Both a and b"
   ]
  },
  {
   "cell_type": "code",
   "execution_count": 20,
   "id": "ef6b42df-05f7-498d-8a21-2cc590aa8fcc",
   "metadata": {},
   "outputs": [],
   "source": [
    "# dump() method"
   ]
  },
  {
   "cell_type": "code",
   "execution_count": 21,
   "id": "31ead9c8-4a06-439c-912e-5f7fd598f9b2",
   "metadata": {},
   "outputs": [],
   "source": [
    "# load()"
   ]
  },
  {
   "cell_type": "code",
   "execution_count": 22,
   "id": "140cced6-d8d1-4cee-940c-d952ebd3c135",
   "metadata": {},
   "outputs": [],
   "source": [
    "# All the mentioned above"
   ]
  },
  {
   "cell_type": "code",
   "execution_count": 23,
   "id": "448a3278-9461-48ab-b32f-ae129996025b",
   "metadata": {},
   "outputs": [],
   "source": [
    "captions = {\n",
    "    \"Enterprise\":\"Picard\",\n",
    "    \"Voyagar\": \"Janeway\",\n",
    "    \"Defiant\":\"Siske\"\n",
    "}"
   ]
  },
  {
   "cell_type": "code",
   "execution_count": 24,
   "id": "8530bd72-47c9-48bf-95a5-1c68b10b1c2d",
   "metadata": {},
   "outputs": [
    {
     "name": "stdout",
     "output_type": "stream",
     "text": [
      "Enterprise Picard\n",
      "Voyagar Janeway\n",
      "Defiant Siske\n"
     ]
    }
   ],
   "source": [
    "for ship,caption in captions.items():\n",
    "    print(ship,caption)"
   ]
  },
  {
   "cell_type": "code",
   "execution_count": 25,
   "id": "85aca4b5-5b19-4a6d-be99-9dbb613d5263",
   "metadata": {},
   "outputs": [
    {
     "name": "stdout",
     "output_type": "stream",
     "text": [
      "Enterprise Picard\n",
      "Voyagar Janeway\n",
      "Defiant Siske\n"
     ]
    }
   ],
   "source": [
    "for ship in captions:\n",
    "    print(ship,captions[ship])"
   ]
  },
  {
   "cell_type": "code",
   "execution_count": 26,
   "id": "c1f3e5a4-4a53-414f-8d75-977202659477",
   "metadata": {},
   "outputs": [
    {
     "name": "stdout",
     "output_type": "stream",
     "text": [
      "Enterprise {'Enterprise': 'Picard', 'Voyagar': 'Janeway', 'Defiant': 'Siske'}\n",
      "Voyagar {'Enterprise': 'Picard', 'Voyagar': 'Janeway', 'Defiant': 'Siske'}\n",
      "Defiant {'Enterprise': 'Picard', 'Voyagar': 'Janeway', 'Defiant': 'Siske'}\n"
     ]
    }
   ],
   "source": [
    "for ship in captions:\n",
    "    print(ship,captions)"
   ]
  },
  {
   "cell_type": "code",
   "execution_count": 27,
   "id": "1631beef-b0e9-4fa5-adc9-9fbf927017b2",
   "metadata": {},
   "outputs": [],
   "source": [
    "# both a and b"
   ]
  },
  {
   "cell_type": "code",
   "execution_count": 28,
   "id": "689fc82c-9170-439c-b5f3-5fa9498296d6",
   "metadata": {},
   "outputs": [],
   "source": [
    "captions = {}"
   ]
  },
  {
   "cell_type": "code",
   "execution_count": 29,
   "id": "ebeb6c53-3627-43e0-8d9b-c7b976e58089",
   "metadata": {},
   "outputs": [
    {
     "data": {
      "text/plain": [
       "{}"
      ]
     },
     "execution_count": 29,
     "metadata": {},
     "output_type": "execute_result"
    }
   ],
   "source": [
    "captions"
   ]
  },
  {
   "cell_type": "code",
   "execution_count": 30,
   "id": "e205dcfe-b740-4d68-96bf-dc1587469cf4",
   "metadata": {},
   "outputs": [
    {
     "data": {
      "text/plain": [
       "dict"
      ]
     },
     "execution_count": 30,
     "metadata": {},
     "output_type": "execute_result"
    }
   ],
   "source": [
    "type(captions)"
   ]
  },
  {
   "cell_type": "code",
   "execution_count": 35,
   "id": "7d649439-19cd-4546-b184-bec58df545b0",
   "metadata": {},
   "outputs": [],
   "source": [
    "captions = {\n",
    "    \"Enterprise\":\"Picard\",\n",
    "    \"Voyagar\": \"Janeway\",\n",
    "    \"Defiant\":\"Siske\"\n",
    "}"
   ]
  },
  {
   "cell_type": "code",
   "execution_count": 32,
   "id": "3722d854-4d36-4571-8576-b80b93eb8bff",
   "metadata": {},
   "outputs": [],
   "source": [
    "captions = {dict}"
   ]
  },
  {
   "cell_type": "code",
   "execution_count": 33,
   "id": "e35862fb-1baa-4025-bc0f-1fe3dc7315be",
   "metadata": {},
   "outputs": [
    {
     "data": {
      "text/plain": [
       "{dict}"
      ]
     },
     "execution_count": 33,
     "metadata": {},
     "output_type": "execute_result"
    }
   ],
   "source": [
    "captions"
   ]
  },
  {
   "cell_type": "code",
   "execution_count": 36,
   "id": "f2f4b574-a053-46d3-970e-1c7e4e280fa8",
   "metadata": {},
   "outputs": [
    {
     "ename": "AttributeError",
     "evalue": "'dict' object has no attribute 'dict'",
     "output_type": "error",
     "traceback": [
      "\u001b[1;31m---------------------------------------------------------------------------\u001b[0m",
      "\u001b[1;31mAttributeError\u001b[0m                            Traceback (most recent call last)",
      "Cell \u001b[1;32mIn[36], line 1\u001b[0m\n\u001b[1;32m----> 1\u001b[0m \u001b[43mcaptions\u001b[49m\u001b[38;5;241;43m.\u001b[39;49m\u001b[43mdict\u001b[49m()\n",
      "\u001b[1;31mAttributeError\u001b[0m: 'dict' object has no attribute 'dict'"
     ]
    }
   ],
   "source": [
    "captions.dict()"
   ]
  },
  {
   "cell_type": "code",
   "execution_count": 37,
   "id": "2103b0c6-836d-493a-b516-c0473ad3ce18",
   "metadata": {},
   "outputs": [],
   "source": [
    "# captions = {}"
   ]
  },
  {
   "cell_type": "code",
   "execution_count": 38,
   "id": "e4810207-59cb-4e74-8f77-8ce043cb88fb",
   "metadata": {},
   "outputs": [],
   "source": [
    "captions = {}"
   ]
  },
  {
   "cell_type": "code",
   "execution_count": 40,
   "id": "25889987-6825-45f9-b13c-51ebda414395",
   "metadata": {},
   "outputs": [],
   "source": [
    "captions[\"Enterprise\"] = \"Picard\"\n",
    "captions[\"Voyager\"] = \"Janeway\"\n",
    "captions[\"Defiant\"] = \"Sisko\""
   ]
  },
  {
   "cell_type": "code",
   "execution_count": 41,
   "id": "b09d35b7-f310-4dfb-a4f0-65e93e4047e6",
   "metadata": {},
   "outputs": [
    {
     "data": {
      "text/plain": [
       "{'Enterprise': 'Picard', 'Voyager': 'Janeway', 'Defiant': 'Sisko'}"
      ]
     },
     "execution_count": 41,
     "metadata": {},
     "output_type": "execute_result"
    }
   ],
   "source": [
    "captions"
   ]
  },
  {
   "cell_type": "code",
   "execution_count": 44,
   "id": "e917a813-5bd2-4f2c-84b7-637692cde2a6",
   "metadata": {},
   "outputs": [],
   "source": [
    "captions = {}"
   ]
  },
  {
   "cell_type": "code",
   "execution_count": 45,
   "id": "e0307551-0c32-4c47-8c83-4785a79936b4",
   "metadata": {},
   "outputs": [],
   "source": [
    "captions = {\n",
    " \"Enterprise\": \"Picard\",\n",
    " \"Voyager\": \"Janeway\",\n",
    " \"Defiant\": \"Sisko\",\n",
    "}\n"
   ]
  },
  {
   "cell_type": "code",
   "execution_count": 46,
   "id": "ff3813ca-b64e-4740-ab58-78e15dc63373",
   "metadata": {},
   "outputs": [
    {
     "data": {
      "text/plain": [
       "{'Enterprise': 'Picard', 'Voyager': 'Janeway', 'Defiant': 'Sisko'}"
      ]
     },
     "execution_count": 46,
     "metadata": {},
     "output_type": "execute_result"
    }
   ],
   "source": [
    "captions"
   ]
  },
  {
   "cell_type": "code",
   "execution_count": 47,
   "id": "0aa4a9a7-1551-49ca-abac-aed6647a71d7",
   "metadata": {},
   "outputs": [],
   "source": [
    "# both b and c"
   ]
  },
  {
   "cell_type": "code",
   "execution_count": 50,
   "id": "007c0499-e27c-4445-8239-696af97edf43",
   "metadata": {},
   "outputs": [
    {
     "name": "stdout",
     "output_type": "stream",
     "text": [
      "The [ship] is captained by [captain].\n",
      "The [ship] is captained by [captain].\n",
      "The [ship] is captained by [captain].\n"
     ]
    }
   ],
   "source": [
    " for item in captions.items():\n",
    "     print(f\"The [ship] is captained by [captain].\")"
   ]
  },
  {
   "cell_type": "code",
   "execution_count": 51,
   "id": "a1f4b116-2bf8-4e9c-aff3-1fc2237ac38f",
   "metadata": {},
   "outputs": [
    {
     "name": "stdout",
     "output_type": "stream",
     "text": [
      "The Enterprise is captained by Picard.\n",
      "The Voyager is captained by Janeway.\n",
      "The Defiant is captained by Sisko.\n"
     ]
    }
   ],
   "source": [
    " for ship, captain in captains.items():\n",
    "     print(f\"The {ship} is captained by {captain}.\")\n"
   ]
  },
  {
   "cell_type": "code",
   "execution_count": 52,
   "id": "ead3332b-52d5-48c3-9d4c-8f927bccc823",
   "metadata": {},
   "outputs": [
    {
     "name": "stdout",
     "output_type": "stream",
     "text": [
      "The Picard is captained by Enterprise.\n",
      "The Janeway is captained by Voyager.\n",
      "The Sisko is captained by Defiant.\n"
     ]
    }
   ],
   "source": [
    "for captain, ship in captains.items():\n",
    "    print(f\"The {ship} is captained by {captain}.\")\n"
   ]
  },
  {
   "cell_type": "code",
   "execution_count": 53,
   "id": "027fed9c-223a-4ace-9d4e-f9eeedd53762",
   "metadata": {},
   "outputs": [],
   "source": [
    "# b"
   ]
  },
  {
   "cell_type": "code",
   "execution_count": 54,
   "id": "1beecf15-9c71-4229-80f9-8cf27a7d3b51",
   "metadata": {},
   "outputs": [],
   "source": [
    "# c"
   ]
  }
 ],
 "metadata": {
  "kernelspec": {
   "display_name": "Python 3 (ipykernel)",
   "language": "python",
   "name": "python3"
  },
  "language_info": {
   "codemirror_mode": {
    "name": "ipython",
    "version": 3
   },
   "file_extension": ".py",
   "mimetype": "text/x-python",
   "name": "python",
   "nbconvert_exporter": "python",
   "pygments_lexer": "ipython3",
   "version": "3.11.5"
  }
 },
 "nbformat": 4,
 "nbformat_minor": 5
}
